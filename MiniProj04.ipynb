{
  "nbformat": 4,
  "nbformat_minor": 0,
  "metadata": {
    "colab": {
      "provenance": [],
      "authorship_tag": "ABX9TyPNOz0Dv3Vr3mKSuLnh/Klc",
      "include_colab_link": true
    },
    "kernelspec": {
      "name": "python3",
      "display_name": "Python 3"
    },
    "language_info": {
      "name": "python"
    }
  },
  "cells": [
    {
      "cell_type": "markdown",
      "metadata": {
        "id": "view-in-github",
        "colab_type": "text"
      },
      "source": [
        "<a href=\"https://colab.research.google.com/github/akhil5005/MiniProject04--ComboFinder/blob/main/MiniProj04.ipynb\" target=\"_parent\"><img src=\"https://colab.research.google.com/assets/colab-badge.svg\" alt=\"Open In Colab\"/></a>"
      ]
    },
    {
      "cell_type": "markdown",
      "source": [
        "# **ComboFinder**"
      ],
      "metadata": {
        "id": "bny5-zDcBS0r"
      }
    },
    {
      "cell_type": "markdown",
      "source": [
        "Problem Statement:\n",
        "Find all the list of products whose sum-of-price is between 290 and 310.\n",
        "\n",
        "ProductList = {p1:10, p2:15, p3:20, p4:25, p5:30, p6:35, p7:50}"
      ],
      "metadata": {
        "id": "-2UUjXJ3Bcx3"
      }
    },
    {
      "cell_type": "code",
      "source": [
        "import random as r\n",
        "ProductList = {'p1':10,'p2':15,'p3':20,'p4':25,'p5':30,'p6':35,'p7':50,'p8':45,\n",
        "               'p9':55,'p10':60,'p11':65,'p12':75,'p13':70,'p14':40}\n",
        "\n",
        "LB = 290\n",
        "UB = 310\n",
        "ResultList = set()\n",
        "Iterations = 1000\n",
        "\n",
        "\n",
        "for i in range(Iterations):\n",
        "  SetSize = r.randint(2,len(ProductList)-1)\n",
        "  ComboList = r.sample(list(ProductList.keys()),SetSize)\n",
        "  ComboSum = sum([ProductList[i] for i in ComboList])\n",
        "\n",
        "  if LB <= ComboSum <= UB:\n",
        "    ResultList.add(tuple(ComboList))\n",
        "\n",
        "for r in ResultList:\n",
        "  print(r)\n",
        "\n",
        "print(\"\\nTotal Sets:\",len(ResultList))\n",
        "\n",
        "\n"
      ],
      "metadata": {
        "colab": {
          "base_uri": "https://localhost:8080/"
        },
        "id": "OO4tDe3xEJyx",
        "outputId": "88f7a4c8-b469-44d1-bb21-ae34a267f0bb"
      },
      "execution_count": 2,
      "outputs": [
        {
          "output_type": "stream",
          "name": "stdout",
          "text": [
            "('p14', 'p7', 'p10', 'p12', 'p2', 'p13')\n",
            "('p9', 'p8', 'p13', 'p6', 'p10', 'p4')\n",
            "('p9', 'p4', 'p1', 'p2', 'p7', 'p3', 'p13', 'p11')\n",
            "('p5', 'p9', 'p8', 'p13', 'p1', 'p6', 'p11')\n",
            "('p7', 'p2', 'p14', 'p4', 'p3', 'p6', 'p9', 'p8', 'p1')\n",
            "('p11', 'p2', 'p14', 'p10', 'p3', 'p4', 'p8', 'p6')\n",
            "('p14', 'p5', 'p13', 'p12', 'p11', 'p1')\n",
            "('p7', 'p14', 'p2', 'p11', 'p13', 'p10')\n",
            "('p10', 'p3', 'p14', 'p6', 'p4', 'p2', 'p8', 'p13')\n",
            "('p2', 'p3', 'p9', 'p5', 'p11', 'p13', 'p6')\n",
            "('p4', 'p12', 'p2', 'p13', 'p11', 'p1', 'p14')\n",
            "('p1', 'p5', 'p13', 'p7', 'p8', 'p4', 'p10')\n",
            "('p13', 'p2', 'p7', 'p8', 'p6', 'p3', 'p9')\n",
            "('p3', 'p9', 'p13', 'p2', 'p4', 'p5', 'p1', 'p14', 'p6')\n",
            "('p3', 'p13', 'p11', 'p6', 'p7', 'p4', 'p14')\n",
            "('p6', 'p4', 'p2', 'p1', 'p11', 'p3', 'p5', 'p7', 'p10')\n",
            "('p5', 'p14', 'p12', 'p8', 'p1', 'p7', 'p3', 'p6')\n",
            "('p8', 'p1', 'p11', 'p10', 'p2', 'p9', 'p3', 'p4')\n",
            "('p11', 'p5', 'p10', 'p4', 'p12', 'p6', 'p3')\n",
            "('p13', 'p4', 'p7', 'p14', 'p2', 'p5', 'p12')\n",
            "('p3', 'p4', 'p11', 'p5', 'p7', 'p13', 'p8')\n",
            "('p5', 'p2', 'p1', 'p3', 'p4', 'p6', 'p12', 'p7', 'p14')\n",
            "('p9', 'p6', 'p13', 'p12', 'p1', 'p3', 'p2', 'p5')\n",
            "('p8', 'p6', 'p7', 'p4', 'p1', 'p3', 'p14', 'p9', 'p5')\n",
            "('p5', 'p8', 'p6', 'p13', 'p7', 'p11')\n",
            "('p5', 'p9', 'p10', 'p13', 'p7', 'p8')\n",
            "('p6', 'p9', 'p5', 'p1', 'p4', 'p11', 'p2', 'p13')\n",
            "('p3', 'p1', 'p12', 'p14', 'p5', 'p8', 'p4', 'p2', 'p7')\n",
            "('p14', 'p3', 'p8', 'p7', 'p11', 'p5', 'p6', 'p1')\n",
            "('p5', 'p13', 'p7', 'p14', 'p12', 'p4', 'p3')\n",
            "('p2', 'p1', 'p7', 'p8', 'p3', 'p12', 'p5', 'p11')\n",
            "('p13', 'p2', 'p1', 'p7', 'p5', 'p14', 'p3', 'p12')\n",
            "('p12', 'p11', 'p10', 'p3', 'p6', 'p5', 'p1')\n",
            "('p1', 'p7', 'p14', 'p12', 'p8', 'p11', 'p3')\n",
            "('p14', 'p8', 'p9', 'p12', 'p7', 'p1', 'p4')\n",
            "('p11', 'p10', 'p8', 'p1', 'p6', 'p5', 'p9')\n",
            "('p14', 'p6', 'p7', 'p12', 'p1', 'p3', 'p10')\n",
            "('p13', 'p14', 'p4', 'p9', 'p10', 'p5', 'p1')\n",
            "('p14', 'p4', 'p7', 'p2', 'p10', 'p8', 'p9')\n",
            "('p3', 'p2', 'p6', 'p13', 'p12', 'p1', 'p9', 'p4')\n",
            "('p5', 'p8', 'p1', 'p3', 'p13', 'p10', 'p11')\n",
            "\n",
            "Total Sets: 41\n"
          ]
        }
      ]
    }
  ]
}